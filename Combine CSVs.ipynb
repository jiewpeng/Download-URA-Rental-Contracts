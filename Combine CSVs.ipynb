{
 "cells": [
  {
   "cell_type": "code",
   "execution_count": 6,
   "metadata": {
    "collapsed": true
   },
   "outputs": [],
   "source": [
    "import pandas as pd\n",
    "import re\n",
    "import os\n",
    "from glob import glob\n",
    "\n",
    "pd.options.display.max_rows = 6"
   ]
  },
  {
   "cell_type": "code",
   "execution_count": 7,
   "metadata": {
    "collapsed": false
   },
   "outputs": [],
   "source": [
    "csv_files = glob(os.path.join(os.getcwd(), \"data\", \"raw\", \"*.csv\"))"
   ]
  },
  {
   "cell_type": "code",
   "execution_count": 8,
   "metadata": {
    "collapsed": true,
    "deletable": true,
    "editable": true
   },
   "outputs": [],
   "source": [
    "def rename_cols(df):\n",
    "    '''\n",
    "    Function to rename columns of the URA rental contracts datasets.\n",
    "    \n",
    "    Arguments:\n",
    "        df: pandas DataFrame.\n",
    "        \n",
    "    Returns:\n",
    "        pandas DataFrame with the renamed columns\n",
    "    '''\n",
    "    col_names = df.columns.tolist()\n",
    "    name_mapping = {\n",
    "        'S/N': 's_no',\n",
    "        'Building/Project Name': 'project_name',\n",
    "        'Street Name': 'street',\n",
    "        'Postal District': 'postal_district',\n",
    "        'Type': 'property_type',\n",
    "        'No. of Bedroom(for Non-Landed Only)': 'no_bedroom',\n",
    "        'Monthly Gross Rent($)': 'monthly_rent',\n",
    "        'Floor Area (sq ft)': 'area_sqft',\n",
    "        'Lease Commencement Date': 'lease_commence'\n",
    "    }\n",
    "    \n",
    "    new_names = []\n",
    "    for col_name in col_names:\n",
    "        new_names.append(name_mapping[col_name])\n",
    "    \n",
    "    df.columns = new_names\n",
    "    return(df)"
   ]
  },
  {
   "cell_type": "code",
   "execution_count": 13,
   "metadata": {
    "collapsed": false
   },
   "outputs": [],
   "source": [
    "def combine_csvs():\n",
    "    result_df = pd.DataFrame()\n",
    "    for csv_file in csv_files:\n",
    "        tmp = pd.read_csv(csv_file, header = 1) # there is 1 row of comment\n",
    "        tmp = tmp[:-6] # last 6 rows are also comments/not data\n",
    "        result_df = pd.concat((result_df, tmp))\n",
    "    result_df = rename_cols(result_df)\n",
    "    result_df = result_df.drop('s_no', axis = 1)\n",
    "    \n",
    "    return(result_df)"
   ]
  },
  {
   "cell_type": "code",
   "execution_count": 14,
   "metadata": {
    "collapsed": false
   },
   "outputs": [
    {
     "data": {
      "text/html": [
       "<div>\n",
       "<table border=\"1\" class=\"dataframe\">\n",
       "  <thead>\n",
       "    <tr style=\"text-align: right;\">\n",
       "      <th></th>\n",
       "      <th>project_name</th>\n",
       "      <th>street</th>\n",
       "      <th>postal_district</th>\n",
       "      <th>property_type</th>\n",
       "      <th>no_bedroom</th>\n",
       "      <th>monthly_rent</th>\n",
       "      <th>area_sqft</th>\n",
       "      <th>lease_commence</th>\n",
       "    </tr>\n",
       "  </thead>\n",
       "  <tbody>\n",
       "    <tr>\n",
       "      <th>0</th>\n",
       "      <td>MARINA BAY RESIDENCES</td>\n",
       "      <td>MARINA BOULEVARD</td>\n",
       "      <td>1.0</td>\n",
       "      <td>Non-landed Properties</td>\n",
       "      <td>3</td>\n",
       "      <td>10000.0</td>\n",
       "      <td>1900 to 2000</td>\n",
       "      <td>Feb-2017</td>\n",
       "    </tr>\n",
       "    <tr>\n",
       "      <th>1</th>\n",
       "      <td>MARINA BAY RESIDENCES</td>\n",
       "      <td>MARINA BOULEVARD</td>\n",
       "      <td>1.0</td>\n",
       "      <td>Non-landed Properties</td>\n",
       "      <td>2</td>\n",
       "      <td>6000.0</td>\n",
       "      <td>1100 to 1200</td>\n",
       "      <td>Feb-2017</td>\n",
       "    </tr>\n",
       "    <tr>\n",
       "      <th>2</th>\n",
       "      <td>THE SAIL @ MARINA BAY</td>\n",
       "      <td>MARINA BOULEVARD</td>\n",
       "      <td>1.0</td>\n",
       "      <td>Non-landed Properties</td>\n",
       "      <td>3</td>\n",
       "      <td>7000.0</td>\n",
       "      <td>1700 to 1800</td>\n",
       "      <td>Feb-2017</td>\n",
       "    </tr>\n",
       "    <tr>\n",
       "      <th>...</th>\n",
       "      <td>...</td>\n",
       "      <td>...</td>\n",
       "      <td>...</td>\n",
       "      <td>...</td>\n",
       "      <td>...</td>\n",
       "      <td>...</td>\n",
       "      <td>...</td>\n",
       "      <td>...</td>\n",
       "    </tr>\n",
       "    <tr>\n",
       "      <th>4</th>\n",
       "      <td>TELOK AYER CONSERVATION AREA</td>\n",
       "      <td>ANN SIANG ROAD</td>\n",
       "      <td>1.0</td>\n",
       "      <td>Terrace House</td>\n",
       "      <td>na*</td>\n",
       "      <td>4400.0</td>\n",
       "      <td>&lt;= 1000</td>\n",
       "      <td>Sep-2015</td>\n",
       "    </tr>\n",
       "    <tr>\n",
       "      <th>5</th>\n",
       "      <td>THE CENTRAL</td>\n",
       "      <td>EU TONG SEN STREET</td>\n",
       "      <td>1.0</td>\n",
       "      <td>Detached House</td>\n",
       "      <td>na*</td>\n",
       "      <td>2207.0</td>\n",
       "      <td>&lt;= 1000</td>\n",
       "      <td>Oct-2014</td>\n",
       "    </tr>\n",
       "    <tr>\n",
       "      <th>6</th>\n",
       "      <td>TELOK AYER CONSERVATION AREA</td>\n",
       "      <td>TELOK AYER STREET</td>\n",
       "      <td>1.0</td>\n",
       "      <td>Terrace House</td>\n",
       "      <td>na*</td>\n",
       "      <td>10800.0</td>\n",
       "      <td>3500 to 4000</td>\n",
       "      <td>Apr-2014</td>\n",
       "    </tr>\n",
       "  </tbody>\n",
       "</table>\n",
       "<p>211948 rows × 8 columns</p>\n",
       "</div>"
      ],
      "text/plain": [
       "                    project_name              street  postal_district  \\\n",
       "0          MARINA BAY RESIDENCES    MARINA BOULEVARD              1.0   \n",
       "1          MARINA BAY RESIDENCES    MARINA BOULEVARD              1.0   \n",
       "2          THE SAIL @ MARINA BAY    MARINA BOULEVARD              1.0   \n",
       "..                           ...                 ...              ...   \n",
       "4   TELOK AYER CONSERVATION AREA      ANN SIANG ROAD              1.0   \n",
       "5                    THE CENTRAL  EU TONG SEN STREET              1.0   \n",
       "6   TELOK AYER CONSERVATION AREA   TELOK AYER STREET              1.0   \n",
       "\n",
       "            property_type no_bedroom  monthly_rent     area_sqft  \\\n",
       "0   Non-landed Properties          3       10000.0  1900 to 2000   \n",
       "1   Non-landed Properties          2        6000.0  1100 to 1200   \n",
       "2   Non-landed Properties          3        7000.0  1700 to 1800   \n",
       "..                    ...        ...           ...           ...   \n",
       "4           Terrace House        na*        4400.0       <= 1000   \n",
       "5          Detached House        na*        2207.0       <= 1000   \n",
       "6           Terrace House        na*       10800.0  3500 to 4000   \n",
       "\n",
       "   lease_commence  \n",
       "0        Feb-2017  \n",
       "1        Feb-2017  \n",
       "2        Feb-2017  \n",
       "..            ...  \n",
       "4        Sep-2015  \n",
       "5        Oct-2014  \n",
       "6        Apr-2014  \n",
       "\n",
       "[211948 rows x 8 columns]"
      ]
     },
     "execution_count": 14,
     "metadata": {},
     "output_type": "execute_result"
    }
   ],
   "source": [
    "result_df = combine_csvs()\n",
    "result_df"
   ]
  },
  {
   "cell_type": "code",
   "execution_count": 15,
   "metadata": {
    "collapsed": false
   },
   "outputs": [],
   "source": [
    "result_df.to_csv('data/final/rental_contracts.csv', index=False)"
   ]
  },
  {
   "cell_type": "code",
   "execution_count": null,
   "metadata": {
    "collapsed": true
   },
   "outputs": [],
   "source": []
  }
 ],
 "metadata": {
  "kernelspec": {
   "display_name": "Python [default]",
   "language": "python",
   "name": "python3"
  },
  "language_info": {
   "codemirror_mode": {
    "name": "ipython",
    "version": 3
   },
   "file_extension": ".py",
   "mimetype": "text/x-python",
   "name": "python",
   "nbconvert_exporter": "python",
   "pygments_lexer": "ipython3",
   "version": "3.5.2"
  }
 },
 "nbformat": 4,
 "nbformat_minor": 2
}
