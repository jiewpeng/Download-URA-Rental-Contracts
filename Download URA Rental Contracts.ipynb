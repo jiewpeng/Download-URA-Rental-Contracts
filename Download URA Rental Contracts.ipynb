{
 "cells": [
  {
   "cell_type": "markdown",
   "metadata": {},
   "source": [
    "# Note before Running\n",
    "\n",
    "Before running, make sure that there is a 'data/raw' directory. Downloaded CSV files will be saved there."
   ]
  },
  {
   "cell_type": "code",
   "execution_count": 5,
   "metadata": {
    "collapsed": true
   },
   "outputs": [],
   "source": [
    "import pandas as pd\n",
    "from selenium import webdriver\n",
    "from selenium.webdriver.support.ui import WebDriverWait\n",
    "from selenium.webdriver.support import expected_conditions as EC\n",
    "from selenium.webdriver.common.by import By\n",
    "import os\n",
    "import time\n",
    "import re\n",
    "from tqdm import tqdm_notebook as tqdm\n",
    "from glob import glob\n",
    "\n",
    "pd.options.display.max_rows = 6"
   ]
  },
  {
   "cell_type": "code",
   "execution_count": 6,
   "metadata": {
    "collapsed": false
   },
   "outputs": [],
   "source": [
    "URL = 'https://www.ura.gov.sg/realEstateIIWeb/resiRental/search.action'\n",
    "DISTRICTS = 28"
   ]
  },
  {
   "cell_type": "code",
   "execution_count": 7,
   "metadata": {
    "collapsed": false
   },
   "outputs": [],
   "source": [
    "start_date = 'MAR-2014'\n",
    "curr_dir = os.getcwd()\n",
    "dl_dir = os.path.join(curr_dir, \"data\", \"raw\")"
   ]
  },
  {
   "cell_type": "code",
   "execution_count": 8,
   "metadata": {
    "collapsed": false
   },
   "outputs": [],
   "source": [
    "def scrape_all(start_date):\n",
    "    '''\n",
    "    Initialises a Chrome browser and send clicks there to download the data.\n",
    "    Loops over districts and property types and downloads.\n",
    "    \n",
    "    Arguments:\n",
    "        start_date: str. Date to start scraping, as per the dropdown menu on the website. e.g. MAR-2014\n",
    "        \n",
    "    Returns:\n",
    "        None. CSV files will be saved 'data/raw' directory\n",
    "        \n",
    "    Example:\n",
    "        scrape_all('MAR-2014')\n",
    "    '''\n",
    "    \n",
    "    chrome_options = webdriver.ChromeOptions()\n",
    "    prefs = {\"download.default_directory\" : dl_dir}\n",
    "    chrome_options.add_experimental_option(\"prefs\",prefs)\n",
    "\n",
    "    browser = webdriver.Chrome(chrome_options = chrome_options)\n",
    "    \n",
    "    wait = WebDriverWait(browser, 10)\n",
    "    \n",
    "    dl_dir_no_csvs = len(glob(os.path.join(dl_dir, \"*.csv\")))\n",
    "\n",
    "    for district in tqdm(range(DISTRICTS), desc = 'Overall', unit = 'District'):\n",
    "        for prop_type, prop_type_txt in enumerate(tqdm(['landed', 'nonlanded', 'EC'], \n",
    "                                                       desc = 'District {}'.format(district + 1), \n",
    "                                                       unit = 'Property Type')):\n",
    "            # the property type on the page is 1-indexed but python is 0-indexed\n",
    "            prop_type = prop_type + 1 \n",
    "            \n",
    "            # go to search page\n",
    "            browser.get(URL)\n",
    "            browser.find_element_by_link_text('Search by property type and postal district').click()\n",
    "\n",
    "            # set property type\n",
    "            browser.find_element_by_xpath('//*[@id=\"district\"]/div[2]/div[{}]/label'.format(prop_type)).click()\n",
    "\n",
    "            # set from date\n",
    "            browser.find_element_by_xpath('//*[@id=\"searchForm_from_Date\"]/option[text()=\"{}\"]'.format(start_date)).click()\n",
    "\n",
    "            \n",
    "            try:\n",
    "                # click on districts\n",
    "                browser.find_element_by_id(\"addToPostal_{}\".format(district)).click()\n",
    "                \n",
    "                # click on search button\n",
    "                time.sleep(2)\n",
    "                browser.find_element_by_id(\"searchForm_2\").click()\n",
    "\n",
    "                # wait till new page loads\n",
    "                wait.until_not(EC.presence_of_element_located((By.ID, 'searchForm_2')))\n",
    "                body_text = browser.find_element_by_xpath('/html/body/div/div[3]/div[2]/div').text\n",
    "\n",
    "                if re.match(\"No results were found\", body_text):\n",
    "                    print(\"No results for property type {}, district {}\".format(prop_type_txt, district + 1))\n",
    "                else:\n",
    "                    # download csv\n",
    "                    browser.find_element_by_xpath('//*[@id=\"SubmitSortForm\"]/div[1]/div[3]/input').click()\n",
    "                    while True:\n",
    "                        curr_dl_dir_no_csvs = len(glob(os.path.join(dl_dir, \"*.csv\")))\n",
    "                        if dl_dir_no_csvs == curr_dl_dir_no_csvs:\n",
    "                            time.sleep(0.5)\n",
    "                        else:\n",
    "                            dl_dir_no_csvs = curr_dl_dir_no_csvs\n",
    "                            break\n",
    "\n",
    "            except:\n",
    "                print('Failed at property type {}, district {}'.format(prop_type_txt, district + 1))\n",
    "    \n",
    "    # browser.close()"
   ]
  },
  {
   "cell_type": "code",
   "execution_count": 9,
   "metadata": {
    "collapsed": false
   },
   "outputs": [
    {
     "name": "stdout",
     "output_type": "stream",
     "text": [
      "No results for property type EC, district 1\n",
      "No results for property type EC, district 2\n",
      "No results for property type EC, district 3\n",
      "No results for property type EC, district 4\n",
      "No results for property type EC, district 5\n",
      "No results for property type landed, district 6\n",
      "No results for property type EC, district 6\n",
      "No results for property type EC, district 7\n",
      "No results for property type EC, district 8\n",
      "No results for property type EC, district 9\n",
      "No results for property type EC, district 10\n",
      "No results for property type EC, district 11\n",
      "No results for property type EC, district 12\n",
      "No results for property type EC, district 13\n",
      "No results for property type EC, district 14\n",
      "No results for property type EC, district 15\n",
      "No results for property type EC, district 16\n",
      "No results for property type EC, district 17\n",
      "No results for property type EC, district 21\n",
      "No results for property type EC, district 25\n",
      "Failed at property type landed, district 28\n",
      "Failed at property type nonlanded, district 28\n",
      "Failed at property type EC, district 28\n",
      "\n"
     ]
    }
   ],
   "source": [
    "# this might fail at district 28 for all property types, because\n",
    "# somehow there is no district 24 in that website\n",
    "scrape_all(start_date)"
   ]
  },
  {
   "cell_type": "code",
   "execution_count": null,
   "metadata": {
    "collapsed": true
   },
   "outputs": [],
   "source": []
  }
 ],
 "metadata": {
  "kernelspec": {
   "display_name": "Python [default]",
   "language": "python",
   "name": "python3"
  },
  "language_info": {
   "codemirror_mode": {
    "name": "ipython",
    "version": 3
   },
   "file_extension": ".py",
   "mimetype": "text/x-python",
   "name": "python",
   "nbconvert_exporter": "python",
   "pygments_lexer": "ipython3",
   "version": "3.5.2"
  }
 },
 "nbformat": 4,
 "nbformat_minor": 2
}
